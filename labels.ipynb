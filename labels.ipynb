{
 "cells": [
  {
   "cell_type": "code",
   "execution_count": 61,
   "metadata": {},
   "outputs": [],
   "source": [
    "import pandas as pd"
   ]
  },
  {
   "cell_type": "code",
   "execution_count": 62,
   "metadata": {},
   "outputs": [],
   "source": [
    "def read_cha_file(file_path):\n",
    "    with open(file_path, 'r') as file:\n",
    "        lines = file.readlines()\n",
    "        return lines[5],lines[1]\n"
   ]
  },
  {
   "cell_type": "code",
   "execution_count": 63,
   "metadata": {},
   "outputs": [],
   "source": [
    "control_df = pd.DataFrame(columns=['subject','ID','age','sex','type','MMSE'])"
   ]
  },
  {
   "cell_type": "code",
   "execution_count": 64,
   "metadata": {},
   "outputs": [],
   "source": [
    "def add_row(file_path,df):\n",
    "    l5, l1 = read_cha_file(file_path)\n",
    "    row = []\n",
    "    row.append(file_path.split(\"/\")[-1].split('.')[0])\n",
    "    row.append(l1.split('-')[1])\n",
    "    row.append(l5.split('|')[3].split(';')[0])\n",
    "    row.append(l5.split('|')[4])\n",
    "    row.append(l5.split('|')[5])\n",
    "    row.append(l5.split('|')[8])\n",
    "    \n",
    "    df.loc[len(df)] = row\n",
    "    return df"
   ]
  },
  {
   "cell_type": "code",
   "execution_count": 65,
   "metadata": {},
   "outputs": [],
   "source": [
    "import os\n",
    "\n",
    "folder_path = \"./scores/control/cookie/\"\n",
    "\n",
    "file_names = os.listdir(folder_path)\n",
    "\n",
    "# Print the file names\n",
    "for file_name in file_names:\n",
    "    #print(file_name)\n",
    "    file_name = folder_path + file_name \n",
    "    add_row(file_name,control_df)"
   ]
  },
  {
   "cell_type": "markdown",
   "metadata": {},
   "source": [
    "## Control gorup"
   ]
  },
  {
   "cell_type": "code",
   "execution_count": 66,
   "metadata": {},
   "outputs": [
    {
     "data": {
      "text/html": [
       "<div>\n",
       "<style scoped>\n",
       "    .dataframe tbody tr th:only-of-type {\n",
       "        vertical-align: middle;\n",
       "    }\n",
       "\n",
       "    .dataframe tbody tr th {\n",
       "        vertical-align: top;\n",
       "    }\n",
       "\n",
       "    .dataframe thead th {\n",
       "        text-align: right;\n",
       "    }\n",
       "</style>\n",
       "<table border=\"1\" class=\"dataframe\">\n",
       "  <thead>\n",
       "    <tr style=\"text-align: right;\">\n",
       "      <th></th>\n",
       "      <th>subject</th>\n",
       "      <th>ID</th>\n",
       "      <th>age</th>\n",
       "      <th>sex</th>\n",
       "      <th>type</th>\n",
       "      <th>MMSE</th>\n",
       "    </tr>\n",
       "  </thead>\n",
       "  <tbody>\n",
       "    <tr>\n",
       "      <th>0</th>\n",
       "      <td>002-0</td>\n",
       "      <td>00002178</td>\n",
       "      <td>58</td>\n",
       "      <td>female</td>\n",
       "      <td>Control</td>\n",
       "      <td>30</td>\n",
       "    </tr>\n",
       "    <tr>\n",
       "      <th>1</th>\n",
       "      <td>002-1</td>\n",
       "      <td>00002179</td>\n",
       "      <td>59</td>\n",
       "      <td>female</td>\n",
       "      <td>Control</td>\n",
       "      <td>30</td>\n",
       "    </tr>\n",
       "    <tr>\n",
       "      <th>2</th>\n",
       "      <td>002-2</td>\n",
       "      <td>00002180</td>\n",
       "      <td>60</td>\n",
       "      <td>female</td>\n",
       "      <td>Control</td>\n",
       "      <td>30</td>\n",
       "    </tr>\n",
       "    <tr>\n",
       "      <th>3</th>\n",
       "      <td>002-3</td>\n",
       "      <td>00002181</td>\n",
       "      <td>61</td>\n",
       "      <td>female</td>\n",
       "      <td>Control</td>\n",
       "      <td>28</td>\n",
       "    </tr>\n",
       "    <tr>\n",
       "      <th>4</th>\n",
       "      <td>006-2</td>\n",
       "      <td>00002182</td>\n",
       "      <td>72</td>\n",
       "      <td>male</td>\n",
       "      <td>Control</td>\n",
       "      <td></td>\n",
       "    </tr>\n",
       "  </tbody>\n",
       "</table>\n",
       "</div>"
      ],
      "text/plain": [
       "  subject        ID age     sex     type MMSE\n",
       "0   002-0  00002178  58  female  Control   30\n",
       "1   002-1  00002179  59  female  Control   30\n",
       "2   002-2  00002180  60  female  Control   30\n",
       "3   002-3  00002181  61  female  Control   28\n",
       "4   006-2  00002182  72    male  Control     "
      ]
     },
     "execution_count": 66,
     "metadata": {},
     "output_type": "execute_result"
    }
   ],
   "source": [
    "control_df.head()"
   ]
  },
  {
   "cell_type": "markdown",
   "metadata": {},
   "source": [
    "## demential gorup"
   ]
  },
  {
   "cell_type": "code",
   "execution_count": 67,
   "metadata": {},
   "outputs": [],
   "source": [
    "dementia_df = pd.DataFrame(columns=['subject','ID','age','sex','type','MMSE'])"
   ]
  },
  {
   "cell_type": "code",
   "execution_count": 68,
   "metadata": {},
   "outputs": [],
   "source": [
    "folder_path = \"./scores/dementia/cookie/\"\n",
    "\n",
    "file_names = os.listdir(folder_path)\n",
    "\n",
    "# Print the file names\n",
    "for file_name in file_names:\n",
    "    #print(file_name)\n",
    "    file_name = folder_path + file_name \n",
    "    add_row(file_name,dementia_df)"
   ]
  },
  {
   "cell_type": "code",
   "execution_count": 69,
   "metadata": {},
   "outputs": [
    {
     "data": {
      "text/html": [
       "<div>\n",
       "<style scoped>\n",
       "    .dataframe tbody tr th:only-of-type {\n",
       "        vertical-align: middle;\n",
       "    }\n",
       "\n",
       "    .dataframe tbody tr th {\n",
       "        vertical-align: top;\n",
       "    }\n",
       "\n",
       "    .dataframe thead th {\n",
       "        text-align: right;\n",
       "    }\n",
       "</style>\n",
       "<table border=\"1\" class=\"dataframe\">\n",
       "  <thead>\n",
       "    <tr style=\"text-align: right;\">\n",
       "      <th></th>\n",
       "      <th>subject</th>\n",
       "      <th>ID</th>\n",
       "      <th>age</th>\n",
       "      <th>sex</th>\n",
       "      <th>type</th>\n",
       "      <th>MMSE</th>\n",
       "    </tr>\n",
       "  </thead>\n",
       "  <tbody>\n",
       "    <tr>\n",
       "      <th>0</th>\n",
       "      <td>001-0</td>\n",
       "      <td>00002420</td>\n",
       "      <td>57</td>\n",
       "      <td>male</td>\n",
       "      <td>ProbableAD</td>\n",
       "      <td>18</td>\n",
       "    </tr>\n",
       "    <tr>\n",
       "      <th>1</th>\n",
       "      <td>001-2</td>\n",
       "      <td>00002421</td>\n",
       "      <td>59</td>\n",
       "      <td>male</td>\n",
       "      <td>ProbableAD</td>\n",
       "      <td>11</td>\n",
       "    </tr>\n",
       "    <tr>\n",
       "      <th>2</th>\n",
       "      <td>003-0</td>\n",
       "      <td>00002422</td>\n",
       "      <td>56</td>\n",
       "      <td>male</td>\n",
       "      <td>ProbableAD</td>\n",
       "      <td>20</td>\n",
       "    </tr>\n",
       "    <tr>\n",
       "      <th>3</th>\n",
       "      <td>005-0</td>\n",
       "      <td>00002423</td>\n",
       "      <td>53</td>\n",
       "      <td>male</td>\n",
       "      <td>ProbableAD</td>\n",
       "      <td>23</td>\n",
       "    </tr>\n",
       "    <tr>\n",
       "      <th>4</th>\n",
       "      <td>005-2</td>\n",
       "      <td>00002424</td>\n",
       "      <td>55</td>\n",
       "      <td>male</td>\n",
       "      <td>ProbableAD</td>\n",
       "      <td>19</td>\n",
       "    </tr>\n",
       "  </tbody>\n",
       "</table>\n",
       "</div>"
      ],
      "text/plain": [
       "  subject        ID age   sex        type MMSE\n",
       "0   001-0  00002420  57  male  ProbableAD   18\n",
       "1   001-2  00002421  59  male  ProbableAD   11\n",
       "2   003-0  00002422  56  male  ProbableAD   20\n",
       "3   005-0  00002423  53  male  ProbableAD   23\n",
       "4   005-2  00002424  55  male  ProbableAD   19"
      ]
     },
     "execution_count": 69,
     "metadata": {},
     "output_type": "execute_result"
    }
   ],
   "source": [
    "dementia_df.head()"
   ]
  },
  {
   "cell_type": "code",
   "execution_count": 70,
   "metadata": {},
   "outputs": [],
   "source": [
    "save_csv = False"
   ]
  },
  {
   "cell_type": "markdown",
   "metadata": {},
   "source": [
    "SAVE DataFrames :"
   ]
  },
  {
   "cell_type": "code",
   "execution_count": 71,
   "metadata": {},
   "outputs": [],
   "source": [
    "if save_csv:\n",
    "    dementia_df.to_csv('dementia_labels.csv', index=False) \n",
    "    control_df.to_csv('control_labels.csv', index=False) "
   ]
  },
  {
   "cell_type": "markdown",
   "metadata": {},
   "source": [
    "---"
   ]
  },
  {
   "cell_type": "code",
   "execution_count": 72,
   "metadata": {},
   "outputs": [
    {
     "data": {
      "text/plain": [
       "['MCI', 'Memory', 'Other', 'PossibleAD', 'ProbableAD', 'Vascular']"
      ]
     },
     "execution_count": 72,
     "metadata": {},
     "output_type": "execute_result"
    }
   ],
   "source": [
    "import numpy as np\n",
    "dementia_df = pd.read_csv('dementia_labels.csv')\n",
    "types = list(np.unique(np.array(dementia_df['type'])))\n",
    "types"
   ]
  },
  {
   "cell_type": "code",
   "execution_count": 73,
   "metadata": {},
   "outputs": [
    {
     "data": {
      "text/html": [
       "<div>\n",
       "<style scoped>\n",
       "    .dataframe tbody tr th:only-of-type {\n",
       "        vertical-align: middle;\n",
       "    }\n",
       "\n",
       "    .dataframe tbody tr th {\n",
       "        vertical-align: top;\n",
       "    }\n",
       "\n",
       "    .dataframe thead th {\n",
       "        text-align: right;\n",
       "    }\n",
       "</style>\n",
       "<table border=\"1\" class=\"dataframe\">\n",
       "  <thead>\n",
       "    <tr style=\"text-align: right;\">\n",
       "      <th></th>\n",
       "      <th>subject</th>\n",
       "      <th>ID</th>\n",
       "      <th>age</th>\n",
       "      <th>sex</th>\n",
       "      <th>type</th>\n",
       "      <th>MMSE</th>\n",
       "    </tr>\n",
       "  </thead>\n",
       "  <tbody>\n",
       "    <tr>\n",
       "      <th>0</th>\n",
       "      <td>001-0</td>\n",
       "      <td>2420</td>\n",
       "      <td>57.0</td>\n",
       "      <td>male</td>\n",
       "      <td>ProbableAD</td>\n",
       "      <td>18.0</td>\n",
       "    </tr>\n",
       "    <tr>\n",
       "      <th>1</th>\n",
       "      <td>001-2</td>\n",
       "      <td>2421</td>\n",
       "      <td>59.0</td>\n",
       "      <td>male</td>\n",
       "      <td>ProbableAD</td>\n",
       "      <td>11.0</td>\n",
       "    </tr>\n",
       "    <tr>\n",
       "      <th>2</th>\n",
       "      <td>003-0</td>\n",
       "      <td>2422</td>\n",
       "      <td>56.0</td>\n",
       "      <td>male</td>\n",
       "      <td>ProbableAD</td>\n",
       "      <td>20.0</td>\n",
       "    </tr>\n",
       "    <tr>\n",
       "      <th>3</th>\n",
       "      <td>005-0</td>\n",
       "      <td>2423</td>\n",
       "      <td>53.0</td>\n",
       "      <td>male</td>\n",
       "      <td>ProbableAD</td>\n",
       "      <td>23.0</td>\n",
       "    </tr>\n",
       "    <tr>\n",
       "      <th>4</th>\n",
       "      <td>005-2</td>\n",
       "      <td>2424</td>\n",
       "      <td>55.0</td>\n",
       "      <td>male</td>\n",
       "      <td>ProbableAD</td>\n",
       "      <td>19.0</td>\n",
       "    </tr>\n",
       "  </tbody>\n",
       "</table>\n",
       "</div>"
      ],
      "text/plain": [
       "  subject    ID   age   sex        type  MMSE\n",
       "0   001-0  2420  57.0  male  ProbableAD  18.0\n",
       "1   001-2  2421  59.0  male  ProbableAD  11.0\n",
       "2   003-0  2422  56.0  male  ProbableAD  20.0\n",
       "3   005-0  2423  53.0  male  ProbableAD  23.0\n",
       "4   005-2  2424  55.0  male  ProbableAD  19.0"
      ]
     },
     "execution_count": 73,
     "metadata": {},
     "output_type": "execute_result"
    }
   ],
   "source": [
    "dementia_df.head()"
   ]
  },
  {
   "cell_type": "code",
   "execution_count": 76,
   "metadata": {},
   "outputs": [],
   "source": [
    "num_ProbableAD = list(dementia_df['type']).count(\"ProbableAD\")\n",
    "num_MCI = list(dementia_df['type']).count(\"MCI\")\n",
    "num_Memory = list(dementia_df['type']).count(\"Memory\")\n",
    "num_Other = list(dementia_df['type']).count(\"Other\")\n",
    "num_PossibleAD = list(dementia_df['type']).count(\"PossibleAD\")\n",
    "num_Vascular = list(dementia_df['type']).count(\"Vascular\")"
   ]
  },
  {
   "cell_type": "code",
   "execution_count": 78,
   "metadata": {},
   "outputs": [
    {
     "name": "stdout",
     "output_type": "stream",
     "text": [
      "number of ProbableAD : 236\n",
      "number of MCI : 43\n",
      "number of Memory : 3\n",
      "number of Other : 1\n",
      "number of PossibleAD : 21\n",
      "number of Vascular : 5\n"
     ]
    }
   ],
   "source": [
    "print(f'number of ProbableAD : {num_ProbableAD}')\n",
    "print(f'number of MCI : {num_MCI}')\n",
    "print(f'number of Memory : {num_Memory}')\n",
    "print(f'number of Other : {num_Other}')\n",
    "print(f'number of PossibleAD : {num_PossibleAD}')\n",
    "print(f'number of Vascular : {num_Vascular}')"
   ]
  },
  {
   "cell_type": "code",
   "execution_count": 83,
   "metadata": {},
   "outputs": [
    {
     "name": "stdout",
     "output_type": "stream",
     "text": [
      "number of Control : 486\n"
     ]
    }
   ],
   "source": [
    "control_df = pd.read_csv('control_labels.csv')\n",
    "print(f'number of Control : {len(control_df)}')"
   ]
  },
  {
   "cell_type": "code",
   "execution_count": null,
   "metadata": {},
   "outputs": [],
   "source": []
  }
 ],
 "metadata": {
  "kernelspec": {
   "display_name": "Python 3.9.17 ('alzheimer')",
   "language": "python",
   "name": "python3"
  },
  "language_info": {
   "codemirror_mode": {
    "name": "ipython",
    "version": 3
   },
   "file_extension": ".py",
   "mimetype": "text/x-python",
   "name": "python",
   "nbconvert_exporter": "python",
   "pygments_lexer": "ipython3",
   "version": "3.9.17"
  },
  "orig_nbformat": 4,
  "vscode": {
   "interpreter": {
    "hash": "25b05e4795a1531d3b55a0058bc302082de6595a5bd8f40643b8c42ae422adc8"
   }
  }
 },
 "nbformat": 4,
 "nbformat_minor": 2
}
